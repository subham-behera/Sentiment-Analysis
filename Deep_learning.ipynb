{
  "cells": [
    {
      "cell_type": "code",
      "execution_count": null,
      "metadata": {
        "id": "J3hQRkpQK3dJ"
      },
      "outputs": [],
      "source": [
        "import numpy as np\n",
        "import pandas as pd\n",
        "import re"
      ]
    },
    {
      "cell_type": "code",
      "execution_count": null,
      "metadata": {
        "colab": {
          "base_uri": "https://localhost:8080/",
          "height": 206
        },
        "id": "j8fRniD1LiRO",
        "outputId": "f11a278c-09d4-46f7-c51b-d5dd41e2a7f7"
      },
      "outputs": [
        {
          "output_type": "execute_result",
          "data": {
            "text/plain": [
              "       textID                                               text  \\\n",
              "0  cb774db0d1                I`d have responded, if I were going   \n",
              "1  549e992a42      Sooo SAD I will miss you here in San Diego!!!   \n",
              "2  088c60f138                          my boss is bullying me...   \n",
              "3  9642c003ef                     what interview! leave me alone   \n",
              "4  358bd9e861   Sons of ****, why couldn`t they put them on t...   \n",
              "\n",
              "                         selected_text sentiment  \n",
              "0  I`d have responded, if I were going   neutral  \n",
              "1                             Sooo SAD  negative  \n",
              "2                          bullying me  negative  \n",
              "3                       leave me alone  negative  \n",
              "4                        Sons of ****,  negative  "
            ],
            "text/html": [
              "\n",
              "  <div id=\"df-1b4b097c-c819-414f-8857-762dc02a853c\" class=\"colab-df-container\">\n",
              "    <div>\n",
              "<style scoped>\n",
              "    .dataframe tbody tr th:only-of-type {\n",
              "        vertical-align: middle;\n",
              "    }\n",
              "\n",
              "    .dataframe tbody tr th {\n",
              "        vertical-align: top;\n",
              "    }\n",
              "\n",
              "    .dataframe thead th {\n",
              "        text-align: right;\n",
              "    }\n",
              "</style>\n",
              "<table border=\"1\" class=\"dataframe\">\n",
              "  <thead>\n",
              "    <tr style=\"text-align: right;\">\n",
              "      <th></th>\n",
              "      <th>textID</th>\n",
              "      <th>text</th>\n",
              "      <th>selected_text</th>\n",
              "      <th>sentiment</th>\n",
              "    </tr>\n",
              "  </thead>\n",
              "  <tbody>\n",
              "    <tr>\n",
              "      <th>0</th>\n",
              "      <td>cb774db0d1</td>\n",
              "      <td>I`d have responded, if I were going</td>\n",
              "      <td>I`d have responded, if I were going</td>\n",
              "      <td>neutral</td>\n",
              "    </tr>\n",
              "    <tr>\n",
              "      <th>1</th>\n",
              "      <td>549e992a42</td>\n",
              "      <td>Sooo SAD I will miss you here in San Diego!!!</td>\n",
              "      <td>Sooo SAD</td>\n",
              "      <td>negative</td>\n",
              "    </tr>\n",
              "    <tr>\n",
              "      <th>2</th>\n",
              "      <td>088c60f138</td>\n",
              "      <td>my boss is bullying me...</td>\n",
              "      <td>bullying me</td>\n",
              "      <td>negative</td>\n",
              "    </tr>\n",
              "    <tr>\n",
              "      <th>3</th>\n",
              "      <td>9642c003ef</td>\n",
              "      <td>what interview! leave me alone</td>\n",
              "      <td>leave me alone</td>\n",
              "      <td>negative</td>\n",
              "    </tr>\n",
              "    <tr>\n",
              "      <th>4</th>\n",
              "      <td>358bd9e861</td>\n",
              "      <td>Sons of ****, why couldn`t they put them on t...</td>\n",
              "      <td>Sons of ****,</td>\n",
              "      <td>negative</td>\n",
              "    </tr>\n",
              "  </tbody>\n",
              "</table>\n",
              "</div>\n",
              "    <div class=\"colab-df-buttons\">\n",
              "\n",
              "  <div class=\"colab-df-container\">\n",
              "    <button class=\"colab-df-convert\" onclick=\"convertToInteractive('df-1b4b097c-c819-414f-8857-762dc02a853c')\"\n",
              "            title=\"Convert this dataframe to an interactive table.\"\n",
              "            style=\"display:none;\">\n",
              "\n",
              "  <svg xmlns=\"http://www.w3.org/2000/svg\" height=\"24px\" viewBox=\"0 -960 960 960\">\n",
              "    <path d=\"M120-120v-720h720v720H120Zm60-500h600v-160H180v160Zm220 220h160v-160H400v160Zm0 220h160v-160H400v160ZM180-400h160v-160H180v160Zm440 0h160v-160H620v160ZM180-180h160v-160H180v160Zm440 0h160v-160H620v160Z\"/>\n",
              "  </svg>\n",
              "    </button>\n",
              "\n",
              "  <style>\n",
              "    .colab-df-container {\n",
              "      display:flex;\n",
              "      gap: 12px;\n",
              "    }\n",
              "\n",
              "    .colab-df-convert {\n",
              "      background-color: #E8F0FE;\n",
              "      border: none;\n",
              "      border-radius: 50%;\n",
              "      cursor: pointer;\n",
              "      display: none;\n",
              "      fill: #1967D2;\n",
              "      height: 32px;\n",
              "      padding: 0 0 0 0;\n",
              "      width: 32px;\n",
              "    }\n",
              "\n",
              "    .colab-df-convert:hover {\n",
              "      background-color: #E2EBFA;\n",
              "      box-shadow: 0px 1px 2px rgba(60, 64, 67, 0.3), 0px 1px 3px 1px rgba(60, 64, 67, 0.15);\n",
              "      fill: #174EA6;\n",
              "    }\n",
              "\n",
              "    .colab-df-buttons div {\n",
              "      margin-bottom: 4px;\n",
              "    }\n",
              "\n",
              "    [theme=dark] .colab-df-convert {\n",
              "      background-color: #3B4455;\n",
              "      fill: #D2E3FC;\n",
              "    }\n",
              "\n",
              "    [theme=dark] .colab-df-convert:hover {\n",
              "      background-color: #434B5C;\n",
              "      box-shadow: 0px 1px 3px 1px rgba(0, 0, 0, 0.15);\n",
              "      filter: drop-shadow(0px 1px 2px rgba(0, 0, 0, 0.3));\n",
              "      fill: #FFFFFF;\n",
              "    }\n",
              "  </style>\n",
              "\n",
              "    <script>\n",
              "      const buttonEl =\n",
              "        document.querySelector('#df-1b4b097c-c819-414f-8857-762dc02a853c button.colab-df-convert');\n",
              "      buttonEl.style.display =\n",
              "        google.colab.kernel.accessAllowed ? 'block' : 'none';\n",
              "\n",
              "      async function convertToInteractive(key) {\n",
              "        const element = document.querySelector('#df-1b4b097c-c819-414f-8857-762dc02a853c');\n",
              "        const dataTable =\n",
              "          await google.colab.kernel.invokeFunction('convertToInteractive',\n",
              "                                                    [key], {});\n",
              "        if (!dataTable) return;\n",
              "\n",
              "        const docLinkHtml = 'Like what you see? Visit the ' +\n",
              "          '<a target=\"_blank\" href=https://colab.research.google.com/notebooks/data_table.ipynb>data table notebook</a>'\n",
              "          + ' to learn more about interactive tables.';\n",
              "        element.innerHTML = '';\n",
              "        dataTable['output_type'] = 'display_data';\n",
              "        await google.colab.output.renderOutput(dataTable, element);\n",
              "        const docLink = document.createElement('div');\n",
              "        docLink.innerHTML = docLinkHtml;\n",
              "        element.appendChild(docLink);\n",
              "      }\n",
              "    </script>\n",
              "  </div>\n",
              "\n",
              "\n",
              "<div id=\"df-42325993-de07-4e60-9285-444580ea4f35\">\n",
              "  <button class=\"colab-df-quickchart\" onclick=\"quickchart('df-42325993-de07-4e60-9285-444580ea4f35')\"\n",
              "            title=\"Suggest charts\"\n",
              "            style=\"display:none;\">\n",
              "\n",
              "<svg xmlns=\"http://www.w3.org/2000/svg\" height=\"24px\"viewBox=\"0 0 24 24\"\n",
              "     width=\"24px\">\n",
              "    <g>\n",
              "        <path d=\"M19 3H5c-1.1 0-2 .9-2 2v14c0 1.1.9 2 2 2h14c1.1 0 2-.9 2-2V5c0-1.1-.9-2-2-2zM9 17H7v-7h2v7zm4 0h-2V7h2v10zm4 0h-2v-4h2v4z\"/>\n",
              "    </g>\n",
              "</svg>\n",
              "  </button>\n",
              "\n",
              "<style>\n",
              "  .colab-df-quickchart {\n",
              "      --bg-color: #E8F0FE;\n",
              "      --fill-color: #1967D2;\n",
              "      --hover-bg-color: #E2EBFA;\n",
              "      --hover-fill-color: #174EA6;\n",
              "      --disabled-fill-color: #AAA;\n",
              "      --disabled-bg-color: #DDD;\n",
              "  }\n",
              "\n",
              "  [theme=dark] .colab-df-quickchart {\n",
              "      --bg-color: #3B4455;\n",
              "      --fill-color: #D2E3FC;\n",
              "      --hover-bg-color: #434B5C;\n",
              "      --hover-fill-color: #FFFFFF;\n",
              "      --disabled-bg-color: #3B4455;\n",
              "      --disabled-fill-color: #666;\n",
              "  }\n",
              "\n",
              "  .colab-df-quickchart {\n",
              "    background-color: var(--bg-color);\n",
              "    border: none;\n",
              "    border-radius: 50%;\n",
              "    cursor: pointer;\n",
              "    display: none;\n",
              "    fill: var(--fill-color);\n",
              "    height: 32px;\n",
              "    padding: 0;\n",
              "    width: 32px;\n",
              "  }\n",
              "\n",
              "  .colab-df-quickchart:hover {\n",
              "    background-color: var(--hover-bg-color);\n",
              "    box-shadow: 0 1px 2px rgba(60, 64, 67, 0.3), 0 1px 3px 1px rgba(60, 64, 67, 0.15);\n",
              "    fill: var(--button-hover-fill-color);\n",
              "  }\n",
              "\n",
              "  .colab-df-quickchart-complete:disabled,\n",
              "  .colab-df-quickchart-complete:disabled:hover {\n",
              "    background-color: var(--disabled-bg-color);\n",
              "    fill: var(--disabled-fill-color);\n",
              "    box-shadow: none;\n",
              "  }\n",
              "\n",
              "  .colab-df-spinner {\n",
              "    border: 2px solid var(--fill-color);\n",
              "    border-color: transparent;\n",
              "    border-bottom-color: var(--fill-color);\n",
              "    animation:\n",
              "      spin 1s steps(1) infinite;\n",
              "  }\n",
              "\n",
              "  @keyframes spin {\n",
              "    0% {\n",
              "      border-color: transparent;\n",
              "      border-bottom-color: var(--fill-color);\n",
              "      border-left-color: var(--fill-color);\n",
              "    }\n",
              "    20% {\n",
              "      border-color: transparent;\n",
              "      border-left-color: var(--fill-color);\n",
              "      border-top-color: var(--fill-color);\n",
              "    }\n",
              "    30% {\n",
              "      border-color: transparent;\n",
              "      border-left-color: var(--fill-color);\n",
              "      border-top-color: var(--fill-color);\n",
              "      border-right-color: var(--fill-color);\n",
              "    }\n",
              "    40% {\n",
              "      border-color: transparent;\n",
              "      border-right-color: var(--fill-color);\n",
              "      border-top-color: var(--fill-color);\n",
              "    }\n",
              "    60% {\n",
              "      border-color: transparent;\n",
              "      border-right-color: var(--fill-color);\n",
              "    }\n",
              "    80% {\n",
              "      border-color: transparent;\n",
              "      border-right-color: var(--fill-color);\n",
              "      border-bottom-color: var(--fill-color);\n",
              "    }\n",
              "    90% {\n",
              "      border-color: transparent;\n",
              "      border-bottom-color: var(--fill-color);\n",
              "    }\n",
              "  }\n",
              "</style>\n",
              "\n",
              "  <script>\n",
              "    async function quickchart(key) {\n",
              "      const quickchartButtonEl =\n",
              "        document.querySelector('#' + key + ' button');\n",
              "      quickchartButtonEl.disabled = true;  // To prevent multiple clicks.\n",
              "      quickchartButtonEl.classList.add('colab-df-spinner');\n",
              "      try {\n",
              "        const charts = await google.colab.kernel.invokeFunction(\n",
              "            'suggestCharts', [key], {});\n",
              "      } catch (error) {\n",
              "        console.error('Error during call to suggestCharts:', error);\n",
              "      }\n",
              "      quickchartButtonEl.classList.remove('colab-df-spinner');\n",
              "      quickchartButtonEl.classList.add('colab-df-quickchart-complete');\n",
              "    }\n",
              "    (() => {\n",
              "      let quickchartButtonEl =\n",
              "        document.querySelector('#df-42325993-de07-4e60-9285-444580ea4f35 button');\n",
              "      quickchartButtonEl.style.display =\n",
              "        google.colab.kernel.accessAllowed ? 'block' : 'none';\n",
              "    })();\n",
              "  </script>\n",
              "</div>\n",
              "\n",
              "    </div>\n",
              "  </div>\n"
            ],
            "application/vnd.google.colaboratory.intrinsic+json": {
              "type": "dataframe",
              "variable_name": "df",
              "summary": "{\n  \"name\": \"df\",\n  \"rows\": 27481,\n  \"fields\": [\n    {\n      \"column\": \"textID\",\n      \"properties\": {\n        \"dtype\": \"string\",\n        \"num_unique_values\": 27481,\n        \"samples\": [\n          \"a7f72a928a\",\n          \"ef42dee96c\",\n          \"07d17131b1\"\n        ],\n        \"semantic_type\": \"\",\n        \"description\": \"\"\n      }\n    },\n    {\n      \"column\": \"text\",\n      \"properties\": {\n        \"dtype\": \"string\",\n        \"num_unique_values\": 27480,\n        \"samples\": [\n          \" Enjoy! Family trumps everything\",\n          \" --of them kinda turns me off of it all.  And then I buy more of them and dig a deeper hole, etc. ;;\",\n          \"Clive it`s my birthday pat me  http://apps.facebook.com/dogbook/profile/view/6386106\"\n        ],\n        \"semantic_type\": \"\",\n        \"description\": \"\"\n      }\n    },\n    {\n      \"column\": \"selected_text\",\n      \"properties\": {\n        \"dtype\": \"string\",\n        \"num_unique_values\": 22463,\n        \"samples\": [\n          \"we win\",\n          \"YES!!! haahaaa.! break out the jellybeaniesss!\",\n          \"hay wats ur AIM? we should chat\"\n        ],\n        \"semantic_type\": \"\",\n        \"description\": \"\"\n      }\n    },\n    {\n      \"column\": \"sentiment\",\n      \"properties\": {\n        \"dtype\": \"category\",\n        \"num_unique_values\": 3,\n        \"samples\": [\n          \"neutral\",\n          \"negative\",\n          \"positive\"\n        ],\n        \"semantic_type\": \"\",\n        \"description\": \"\"\n      }\n    }\n  ]\n}"
            }
          },
          "metadata": {},
          "execution_count": 4
        }
      ],
      "source": [
        "data='./train.csv'\n",
        "df=pd.read_csv(data)\n",
        "df.head()"
      ]
    },
    {
      "cell_type": "code",
      "execution_count": null,
      "metadata": {
        "id": "fTJEZe9HLn7f"
      },
      "outputs": [],
      "source": [
        "train=df.drop(['textID','text'],axis=1)"
      ]
    },
    {
      "cell_type": "markdown",
      "metadata": {
        "id": "TmAaqrEZMPbW"
      },
      "source": [
        "## Data Prepocessing\n",
        "#### Clean missing values , convert to lowercase , remove hashes newlines single quotes etc"
      ]
    },
    {
      "cell_type": "code",
      "execution_count": null,
      "metadata": {
        "id": "l5kS6yhuMdnj"
      },
      "outputs": [],
      "source": [
        "train.selected_text.fillna('No text',inplace=True)"
      ]
    },
    {
      "cell_type": "code",
      "execution_count": null,
      "metadata": {
        "id": "1W5bRoTNMzWJ"
      },
      "outputs": [],
      "source": [
        "def cleantext(text):\n",
        "    text = re.sub(r'@[A-Za-z0-9]+','', text) #remove mentions\n",
        "    text = re.sub(r'#','', text) #remove hash\n",
        "    text = re.sub(r'https?:\\/\\/\\S+', '', text) #remove hyperlink\n",
        "    text = re.sub('\\s+', ' ', text) #remove new line char\n",
        "    text = re.sub(\"\\'\", \"\", text) #remove single quotes\n",
        "\n",
        "    return text"
      ]
    },
    {
      "cell_type": "code",
      "execution_count": null,
      "metadata": {
        "id": "9rOVQpnINNC8"
      },
      "outputs": [],
      "source": [
        "train[\"selected_text\"]=train[\"selected_text\"].apply(cleantext)"
      ]
    },
    {
      "cell_type": "code",
      "execution_count": null,
      "metadata": {
        "colab": {
          "base_uri": "https://localhost:8080/"
        },
        "id": "XF4ztG6ENTRW",
        "outputId": "8344921a-d9f8-4a44-e040-e4225dd0dd95"
      },
      "outputs": [
        {
          "output_type": "execute_result",
          "data": {
            "text/plain": [
              "0                  I`d have responded, if I were going\n",
              "1                                             Sooo SAD\n",
              "2                                          bullying me\n",
              "3                                       leave me alone\n",
              "4                                        Sons of ****,\n",
              "5     - some shameless plugging for the best Ranger...\n",
              "6                                                  fun\n",
              "Name: selected_text, dtype: object"
            ]
          },
          "metadata": {},
          "execution_count": 9
        }
      ],
      "source": [
        "train['selected_text'].head(7)"
      ]
    },
    {
      "cell_type": "code",
      "execution_count": null,
      "metadata": {
        "id": "GdJjb7p8NWXt"
      },
      "outputs": [],
      "source": [
        "import string\n",
        "train[\"selected_text\"] = train[\"selected_text\"].apply(lambda wrd:[ltrs.lower() for ltrs in wrd if ltrs not in string.punctuation])"
      ]
    },
    {
      "cell_type": "code",
      "execution_count": null,
      "metadata": {
        "id": "kHVtgHVLNjLE"
      },
      "outputs": [],
      "source": [
        "train[\"selected_text\"] = train[\"selected_text\"].apply(lambda wrd: ''.join(wrd))"
      ]
    },
    {
      "cell_type": "code",
      "execution_count": null,
      "metadata": {
        "colab": {
          "base_uri": "https://localhost:8080/"
        },
        "id": "RQJEXepmN008",
        "outputId": "ab8a31be-6b75-4cac-ff78-c35b16e990d7"
      },
      "outputs": [
        {
          "output_type": "stream",
          "name": "stderr",
          "text": [
            "[nltk_data] Downloading package stopwords to /root/nltk_data...\n",
            "[nltk_data]   Unzipping corpora/stopwords.zip.\n"
          ]
        }
      ],
      "source": [
        "import nltk\n",
        "nltk.download('stopwords')\n",
        "\n",
        "from nltk.corpus import stopwords"
      ]
    },
    {
      "cell_type": "code",
      "execution_count": null,
      "metadata": {
        "id": "7RxXv3BKN8O4"
      },
      "outputs": [],
      "source": [
        "train[\"selected_text\"][:50] = train[\"selected_text\"][:50].apply(lambda x: ' '.join([word for word in x.split() if word not in stopwords.words(\"english\")]))"
      ]
    },
    {
      "cell_type": "code",
      "execution_count": null,
      "metadata": {
        "id": "BsXzoFaaOdat"
      },
      "outputs": [],
      "source": [
        "import gensim\n",
        "def sent_to_words(sentences):\n",
        "  for sentence in sentences:\n",
        "    yield(gensim.utils.simple_preprocess(str(sentence), deacc=True))"
      ]
    },
    {
      "cell_type": "code",
      "execution_count": null,
      "metadata": {
        "id": "zxVWu967PE42"
      },
      "outputs": [],
      "source": [
        "from nltk.tokenize.treebank import TreebankWordTokenizer\n",
        "def detokenize(text):\n",
        "  return TreebankWordTokenizer().detokenize(text)"
      ]
    },
    {
      "cell_type": "code",
      "execution_count": null,
      "metadata": {
        "id": "vlJ0ZNtnPOsL"
      },
      "outputs": [],
      "source": [
        "temp=[]\n",
        "data_to_list=train['selected_text'].values.tolist()\n",
        "for i in range(len(data_to_list)):\n",
        "  temp.append(data_to_list[i])\n",
        "data_wordslem=list(sent_to_words(temp))"
      ]
    },
    {
      "cell_type": "code",
      "execution_count": null,
      "metadata": {
        "id": "IFB4GVpYPyzE"
      },
      "outputs": [],
      "source": [
        "import nltk\n",
        "lemmatizer = nltk.stem.WordNetLemmatizer()"
      ]
    },
    {
      "cell_type": "code",
      "execution_count": null,
      "metadata": {
        "colab": {
          "base_uri": "https://localhost:8080/"
        },
        "id": "hDD2dTbxP5nj",
        "outputId": "e1e37d27-abb3-445e-ea55-616b8720f77d"
      },
      "outputs": [
        {
          "output_type": "stream",
          "name": "stderr",
          "text": [
            "[nltk_data] Downloading package wordnet to /root/nltk_data...\n",
            "[nltk_data] Downloading package omw-1.4 to /root/nltk_data...\n"
          ]
        },
        {
          "output_type": "execute_result",
          "data": {
            "text/plain": [
              "True"
            ]
          },
          "metadata": {},
          "execution_count": 18
        }
      ],
      "source": [
        "nltk.download('wordnet')\n",
        "nltk.download('omw-1.4')"
      ]
    },
    {
      "cell_type": "code",
      "execution_count": null,
      "metadata": {
        "id": "bAA0l8ZTP-by"
      },
      "outputs": [],
      "source": [
        "for i in range(len(data_wordslem)):\n",
        "    for j in range(len(data_wordslem[i])):\n",
        "        data_wordslem[i][j] = lemmatizer.lemmatize(data_wordslem[i][j],pos=\"v\")"
      ]
    },
    {
      "cell_type": "code",
      "execution_count": null,
      "metadata": {
        "colab": {
          "base_uri": "https://localhost:8080/"
        },
        "id": "OK-O5tX3QKp5",
        "outputId": "d85daa4e-49b8-41dd-9f97-2aa71aa09d20"
      },
      "outputs": [
        {
          "output_type": "stream",
          "name": "stdout",
          "text": [
            "['id respond go', 'sooo sad', 'bully', 'leave alone', 'sons']\n"
          ]
        }
      ],
      "source": [
        "from nltk.tokenize.treebank import TreebankWordDetokenizer\n",
        "\n",
        "def detokenize(text):\n",
        "  return TreebankWordDetokenizer().detokenize(text) # Use TreebankWordDetokenizer instead of TreebankWordTokenizer\n",
        "\n",
        "data = []\n",
        "for i in range(len(data_wordslem)):\n",
        "    data.append(detokenize(data_wordslem[i]))\n",
        "print(data[:5])"
      ]
    },
    {
      "cell_type": "markdown",
      "metadata": {
        "id": "5Ar8AAb4RH_K"
      },
      "source": [
        "## Building a Model"
      ]
    },
    {
      "cell_type": "code",
      "execution_count": null,
      "metadata": {
        "id": "punCTQaJREhb"
      },
      "outputs": [],
      "source": [
        "from keras.preprocessing.text import Tokenizer\n",
        "from keras.preprocessing.sequence import pad_sequences\n",
        "from keras import regularizers"
      ]
    },
    {
      "cell_type": "markdown",
      "metadata": {
        "id": "3VX_aVlRmVjr"
      },
      "source": [
        "#### Tokenizing and adding padding"
      ]
    },
    {
      "cell_type": "code",
      "execution_count": null,
      "metadata": {
        "colab": {
          "base_uri": "https://localhost:8080/"
        },
        "id": "05g_cjWpmUlu",
        "outputId": "b5cd2161-65dd-4442-ef33-582ca6f34521"
      },
      "outputs": [
        {
          "output_type": "stream",
          "name": "stdout",
          "text": [
            "[[   0    0    0 ...  290 1026   15]\n",
            " [   0    0    0 ...    0  399   64]\n",
            " [   0    0    0 ...    0    0 3103]\n",
            " ...\n",
            " [   0    0    0 ...  379   12    5]\n",
            " [   0    0    0 ...    1  533    8]\n",
            " [   0    0    0 ...  548  196  398]]\n"
          ]
        }
      ],
      "source": [
        "max_words=5000\n",
        "max_len=200\n",
        "\n",
        "tokenizer=Tokenizer(num_words=max_words)\n",
        "tokenizer.fit_on_texts(data)\n",
        "sequences=tokenizer.texts_to_sequences(data)\n",
        "tweets=pad_sequences(sequences,maxlen=max_len)\n",
        "print(tweets)"
      ]
    },
    {
      "cell_type": "code",
      "execution_count": null,
      "metadata": {
        "id": "OURxOFX3mnbT"
      },
      "outputs": [],
      "source": [
        "from keras.layers import Embedding\n",
        "embedding_layer=Embedding(1000,64)"
      ]
    },
    {
      "cell_type": "markdown",
      "metadata": {
        "id": "1dTsIxJamxtV"
      },
      "source": [
        "#### Using RNN & LSTM"
      ]
    },
    {
      "cell_type": "code",
      "execution_count": null,
      "metadata": {
        "id": "E2c8Belpmw27"
      },
      "outputs": [],
      "source": [
        "from keras.models import Sequential\n",
        "from keras import layers\n",
        "\n",
        "model2 = Sequential()\n",
        "model2.add(layers.Embedding(max_words, 40, input_length=max_len))\n",
        "model2.add(layers.Bidirectional(layers.LSTM(20,dropout=0.6)))\n",
        "model2.add(layers.Dense(3,activation='softmax'))"
      ]
    },
    {
      "cell_type": "code",
      "execution_count": null,
      "metadata": {
        "id": "Zzahr2bpm2ej"
      },
      "outputs": [],
      "source": [
        "model2.compile(optimizer='adam',loss='categorical_crossentropy', metrics=['accuracy'])"
      ]
    },
    {
      "cell_type": "markdown",
      "metadata": {
        "id": "YLljHLErm5pa"
      },
      "source": [
        "#### Label Encoding of output"
      ]
    },
    {
      "cell_type": "code",
      "execution_count": null,
      "metadata": {
        "id": "I0Hi2RqIm4F8"
      },
      "outputs": [],
      "source": [
        "import tensorflow as tf\n",
        "labels = np.array(train['sentiment'])\n",
        "y = []\n",
        "for i in range(len(labels)):\n",
        "    if labels[i] == 'neutral':\n",
        "        y.append(0)\n",
        "    if labels[i] == 'negative':\n",
        "        y.append(1)\n",
        "    if labels[i] == 'positive':\n",
        "        y.append(2)\n",
        "y = np.array(y)\n",
        "labels = tf.keras.utils.to_categorical(y, 3, dtype=\"float32\")\n",
        "del y"
      ]
    },
    {
      "cell_type": "code",
      "execution_count": null,
      "metadata": {
        "colab": {
          "base_uri": "https://localhost:8080/"
        },
        "id": "XWm2CCmbm897",
        "outputId": "f02315d5-3d70-41bc-9c9b-d1432bae45c3"
      },
      "outputs": [
        {
          "output_type": "stream",
          "name": "stdout",
          "text": [
            "Epoch 1/25\n",
            "687/687 [==============================] - 42s 54ms/step - loss: 0.7033 - accuracy: 0.7040 - val_loss: 0.5091 - val_accuracy: 0.8112\n",
            "Epoch 2/25\n",
            "687/687 [==============================] - 17s 25ms/step - loss: 0.4567 - accuracy: 0.8284 - val_loss: 0.4664 - val_accuracy: 0.8266\n",
            "Epoch 3/25\n",
            "687/687 [==============================] - 15s 21ms/step - loss: 0.3943 - accuracy: 0.8544 - val_loss: 0.4443 - val_accuracy: 0.8337\n",
            "Epoch 4/25\n",
            "687/687 [==============================] - 14s 20ms/step - loss: 0.3588 - accuracy: 0.8695 - val_loss: 0.4348 - val_accuracy: 0.8394\n",
            "Epoch 5/25\n",
            "687/687 [==============================] - 16s 23ms/step - loss: 0.3367 - accuracy: 0.8757 - val_loss: 0.4388 - val_accuracy: 0.8374\n",
            "Epoch 6/25\n",
            "687/687 [==============================] - 15s 22ms/step - loss: 0.3202 - accuracy: 0.8819 - val_loss: 0.4392 - val_accuracy: 0.8386\n",
            "Epoch 7/25\n",
            "687/687 [==============================] - 15s 22ms/step - loss: 0.3032 - accuracy: 0.8890 - val_loss: 0.4513 - val_accuracy: 0.8330\n",
            "Epoch 8/25\n",
            "687/687 [==============================] - 15s 22ms/step - loss: 0.2955 - accuracy: 0.8921 - val_loss: 0.4527 - val_accuracy: 0.8366\n",
            "Epoch 9/25\n",
            "687/687 [==============================] - 14s 20ms/step - loss: 0.2869 - accuracy: 0.8949 - val_loss: 0.4610 - val_accuracy: 0.8401\n",
            "Epoch 10/25\n",
            "687/687 [==============================] - 14s 21ms/step - loss: 0.2793 - accuracy: 0.8994 - val_loss: 0.4629 - val_accuracy: 0.8359\n",
            "Epoch 11/25\n",
            "687/687 [==============================] - 17s 25ms/step - loss: 0.2732 - accuracy: 0.9006 - val_loss: 0.4595 - val_accuracy: 0.8375\n",
            "Epoch 12/25\n",
            "687/687 [==============================] - 15s 21ms/step - loss: 0.2645 - accuracy: 0.9012 - val_loss: 0.4761 - val_accuracy: 0.8365\n",
            "Epoch 13/25\n",
            "687/687 [==============================] - 14s 21ms/step - loss: 0.2576 - accuracy: 0.9059 - val_loss: 0.4789 - val_accuracy: 0.8297\n",
            "Epoch 14/25\n",
            "687/687 [==============================] - 15s 21ms/step - loss: 0.2524 - accuracy: 0.9074 - val_loss: 0.4806 - val_accuracy: 0.8317\n",
            "Epoch 15/25\n",
            "687/687 [==============================] - 15s 22ms/step - loss: 0.2488 - accuracy: 0.9083 - val_loss: 0.4835 - val_accuracy: 0.8332\n",
            "Epoch 16/25\n",
            "687/687 [==============================] - 15s 22ms/step - loss: 0.2406 - accuracy: 0.9125 - val_loss: 0.4980 - val_accuracy: 0.8341\n",
            "Epoch 17/25\n",
            "687/687 [==============================] - 15s 22ms/step - loss: 0.2364 - accuracy: 0.9125 - val_loss: 0.5048 - val_accuracy: 0.8317\n",
            "Epoch 18/25\n",
            "687/687 [==============================] - 15s 22ms/step - loss: 0.2328 - accuracy: 0.9145 - val_loss: 0.5053 - val_accuracy: 0.8348\n",
            "Epoch 19/25\n",
            "687/687 [==============================] - 15s 22ms/step - loss: 0.2269 - accuracy: 0.9149 - val_loss: 0.5177 - val_accuracy: 0.8363\n",
            "Epoch 20/25\n",
            "687/687 [==============================] - 15s 22ms/step - loss: 0.2216 - accuracy: 0.9185 - val_loss: 0.5183 - val_accuracy: 0.8285\n",
            "Epoch 21/25\n",
            "687/687 [==============================] - 17s 25ms/step - loss: 0.2183 - accuracy: 0.9181 - val_loss: 0.5327 - val_accuracy: 0.8348\n",
            "Epoch 22/25\n",
            "687/687 [==============================] - 15s 22ms/step - loss: 0.2168 - accuracy: 0.9195 - val_loss: 0.5278 - val_accuracy: 0.8274\n",
            "Epoch 23/25\n",
            "687/687 [==============================] - 15s 22ms/step - loss: 0.2156 - accuracy: 0.9193 - val_loss: 0.5322 - val_accuracy: 0.8312\n",
            "Epoch 24/25\n",
            "687/687 [==============================] - 16s 23ms/step - loss: 0.2119 - accuracy: 0.9223 - val_loss: 0.5365 - val_accuracy: 0.8326\n",
            "Epoch 25/25\n",
            "687/687 [==============================] - 15s 22ms/step - loss: 0.2051 - accuracy: 0.9249 - val_loss: 0.5473 - val_accuracy: 0.8334\n"
          ]
        }
      ],
      "source": [
        "history = model2.fit(x = tweets, y= labels, epochs=25,validation_split=0.2)"
      ]
    },
    {
      "cell_type": "markdown",
      "metadata": {
        "id": "0Ln_CjEmnDPr"
      },
      "source": [
        "#### Visualizing"
      ]
    },
    {
      "cell_type": "code",
      "execution_count": null,
      "metadata": {
        "id": "XrQOsTd5r_eL"
      },
      "outputs": [],
      "source": [
        "import matplotlib.pyplot as plt"
      ]
    },
    {
      "cell_type": "code",
      "execution_count": null,
      "metadata": {
        "colab": {
          "base_uri": "https://localhost:8080/",
          "height": 472
        },
        "id": "L5ct-ns-m-YT",
        "outputId": "1fa9005b-274b-4762-ddac-96ab89ba4bbd"
      },
      "outputs": [
        {
          "output_type": "display_data",
          "data": {
            "text/plain": [
              "<Figure size 640x480 with 1 Axes>"
            ],
            "image/png": "[encoded data removed]"
          },
          "metadata": {}
        }
      ],
      "source": [
        "plt.plot(history.history['loss'])\n",
        "plt.plot(history.history['val_loss'])\n",
        "plt.title('Loss')\n",
        "plt.ylabel('loss')\n",
        "plt.xlabel('epoch')\n",
        "plt.legend(['train', 'validation'], loc='upper left')\n",
        "plt.show()"
      ]
    },
    {
      "cell_type": "code",
      "execution_count": null,
      "metadata": {
        "colab": {
          "base_uri": "https://localhost:8080/",
          "height": 472
        },
        "id": "bkEhqbfEnHGP",
        "outputId": "2325fdf9-9af4-40f5-f211-893c151df434"
      },
      "outputs": [
        {
          "output_type": "display_data",
          "data": {
            "text/plain": [
              "<Figure size 640x480 with 1 Axes>"
            ],
            "image/png": "[encoded data removed]"
          },
          "metadata": {}
        }
      ],
      "source": [
        "plt.plot(history.history['accuracy'])\n",
        "plt.plot(history.history['val_accuracy'])\n",
        "plt.title('Accuracy')\n",
        "plt.ylabel('Accuracy')\n",
        "plt.xlabel('epoch')\n",
        "plt.legend(['train', 'validation'], loc='upper left')\n",
        "plt.show()"
      ]
    },
    {
      "cell_type": "markdown",
      "metadata": {
        "id": "EQjiqMnZnMlZ"
      },
      "source": [
        "### Prediction and result"
      ]
    },
    {
      "cell_type": "code",
      "execution_count": null,
      "metadata": {
        "id": "qS_6qSXgnLPc"
      },
      "outputs": [],
      "source": [
        "sentiment = ['Neutral','Negative','Positive']"
      ]
    },
    {
      "cell_type": "code",
      "execution_count": null,
      "metadata": {
        "id": "40xTuEnVnS7-"
      },
      "outputs": [],
      "source": [
        "def predict(text):\n",
        "  sequence = tokenizer.texts_to_sequences([text])\n",
        "  test = pad_sequences(sequence, maxlen=max_len)\n",
        "  return sentiment[np.around(model2.predict(test), decimals=0).argmax(axis=1)[0]]"
      ]
    },
    {
      "cell_type": "code",
      "execution_count": null,
      "metadata": {
        "colab": {
          "base_uri": "https://localhost:8080/"
        },
        "id": "sFWGAnvnngy6",
        "outputId": "534876d6-6442-4881-c617-c4f83ad280d2"
      },
      "outputs": [
        {
          "output_type": "stream",
          "name": "stdout",
          "text": [
            "1/1 [==============================] - 1s 743ms/step\n",
            "Negative\n"
          ]
        }
      ],
      "source": [
        "ans=predict('this experience has been the worst, very bad product')\n",
        "print(ans)"
      ]
    },
    {
      "cell_type": "code",
      "execution_count": null,
      "metadata": {
        "colab": {
          "base_uri": "https://localhost:8080/"
        },
        "id": "hAc9R9QKnmUg",
        "outputId": "334b29f0-7832-46e2-e258-c9ec233e1cb4"
      },
      "outputs": [
        {
          "output_type": "stream",
          "name": "stdout",
          "text": [
            "1/1 [==============================] - 0s 23ms/step\n",
            "Positive\n"
          ]
        }
      ],
      "source": [
        "print(predict('i love sayabidevs'))"
      ]
    },
    {
      "cell_type": "code",
      "source": [
        "import joblib\n",
        "import keras\n",
        "import tensorflow as tf\n",
        "from keras.models import Sequential\n",
        "from keras.preprocessing.sequence import pad_sequences\n",
        "from keras.preprocessing.text import Tokenizer\n",
        "\n",
        "# Assuming your model is stored in a variable named `model2`\n",
        "# Save the tokenizer and the model\n",
        "joblib.dump(tokenizer, 'tokenizer.pkl')\n",
        "model2.save('model.h5')\n",
        "\n",
        "# If you need to save other objects, do so here\n",
        "# joblib.dump(some_other_object, 'some_other_object.pkl')"
      ],
      "metadata": {
        "colab": {
          "base_uri": "https://localhost:8080/"
        },
        "id": "Tx4KPcdrRApm",
        "outputId": "0bcad264-17e3-44f5-e022-b08eb2c17f3b"
      },
      "execution_count": null,
      "outputs": [
        {
          "output_type": "stream",
          "name": "stderr",
          "text": [
            "/usr/local/lib/python3.10/dist-packages/keras/src/engine/training.py:3103: UserWarning: You are saving your model as an HDF5 file via `model.save()`. This file format is considered legacy. We recommend using instead the native Keras format, e.g. `model.save('my_model.keras')`.\n",
            "  saving_api.save_model(\n"
          ]
        }
      ]
    }
  ],
  "metadata": {
    "accelerator": "GPU",
    "colab": {
      "gpuType": "T4",
      "provenance": []
    },
    "kernelspec": {
      "display_name": "Python 3",
      "name": "python3"
    },
    "language_info": {
      "codemirror_mode": {
        "name": "ipython",
        "version": 3
      },
      "file_extension": ".py",
      "mimetype": "text/x-python",
      "name": "python",
      "nbconvert_exporter": "python",
      "pygments_lexer": "ipython3",
      "version": "3.11.4"
    }
  },
  "nbformat": 4,
  "nbformat_minor": 0
}